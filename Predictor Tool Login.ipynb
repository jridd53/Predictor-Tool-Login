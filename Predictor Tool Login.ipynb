{
 "cells": [
  {
   "cell_type": "code",
   "execution_count": 23,
   "id": "143ba2d6",
   "metadata": {},
   "outputs": [],
   "source": [
    "from tkinter import *\n",
    "import webbrowser\n",
    "import voila\n",
    "import ipywidgets as widgets\n",
    "from IPython.display import display"
   ]
  },
  {
   "cell_type": "code",
   "execution_count": 20,
   "id": "5cbf7b1a",
   "metadata": {},
   "outputs": [],
   "source": [
    "def onClick():\n",
    "    userInp = username.get(\"1.0\", 'end-1c')\n",
    "    pwInp = password.get(\"1.0\", 'end-1c')\n",
    "    if userInp == 'admin' and pwInp == 'admin':\n",
    "        errorVar.set('Login successful. Displaying prediction tool')\n",
    "        webbrowser.open(\"https://github.com/jridd53/C964\")\n",
    "        login.destroy()\n",
    "    else:\n",
    "        errorVar.set('Login unsuccessful. Please try again.')"
   ]
  },
  {
   "cell_type": "code",
   "execution_count": 21,
   "id": "2f6e5640",
   "metadata": {},
   "outputs": [],
   "source": [
    "login = Tk()\n",
    "login.title('C964 Heart Disease Prediction Tool Login')\n",
    "login.geometry('400x300')\n",
    "\n",
    "errorVar = StringVar()\n",
    "errorVar.set('')\n",
    "\n",
    "instruction = Label(login, text='Please enter username and password.')\n",
    "userLabel = Label(login, text='Username:')\n",
    "pwLabel = Label(login, text='Password:')\n",
    "space = Label(login, text='')\n",
    "username = Text(login, height=1, width=20)\n",
    "password = Text(login, height=1, width=20)\n",
    "submit = Button(login, text='Login', bd='5', command=onClick)\n",
    "message = Label(login, textvariable=errorVar)\n",
    "\n",
    "instruction.pack(side='top', pady=15)\n",
    "userLabel.pack(side='top', pady=0)\n",
    "username.pack(side='top', pady=0)\n",
    "space.pack(side='top', pady=5)\n",
    "pwLabel.pack(side='top', pady=0)\n",
    "password.pack(side='top', pady=0)\n",
    "\n",
    "message.pack(side='bottom', pady=10)\n",
    "submit.pack(side='bottom', pady=15)\n",
    "\n",
    "login.mainloop()"
   ]
  },
  {
   "cell_type": "code",
   "execution_count": null,
   "id": "fd3f7e86",
   "metadata": {},
   "outputs": [],
   "source": []
  }
 ],
 "metadata": {
  "kernelspec": {
   "display_name": "Python 3 (ipykernel)",
   "language": "python",
   "name": "python3"
  },
  "language_info": {
   "codemirror_mode": {
    "name": "ipython",
    "version": 3
   },
   "file_extension": ".py",
   "mimetype": "text/x-python",
   "name": "python",
   "nbconvert_exporter": "python",
   "pygments_lexer": "ipython3",
   "version": "3.9.7"
  }
 },
 "nbformat": 4,
 "nbformat_minor": 5
}
