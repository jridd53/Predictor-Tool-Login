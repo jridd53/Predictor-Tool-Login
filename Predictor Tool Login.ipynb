{
 "cells": [
  {
   "cell_type": "code",
   "execution_count": 5,
   "id": "fcbd0d86",
   "metadata": {},
   "outputs": [],
   "source": [
    "import webbrowser\n",
    "import voila\n",
    "import ipywidgets as widgets\n",
    "from IPython.display import display"
   ]
  },
  {
   "cell_type": "code",
   "execution_count": 6,
   "id": "bbb4eada",
   "metadata": {},
   "outputs": [
    {
     "data": {
      "application/vnd.jupyter.widget-view+json": {
       "model_id": "87f69e7445aa48d796ab7ceac3edd83b",
       "version_major": 2,
       "version_minor": 0
      },
      "text/plain": [
       "Label(value='Please enter username and password.')"
      ]
     },
     "metadata": {},
     "output_type": "display_data"
    },
    {
     "data": {
      "application/vnd.jupyter.widget-view+json": {
       "model_id": "46f3cd8948bb4265b2bd68d1d71917a7",
       "version_major": 2,
       "version_minor": 0
      },
      "text/plain": [
       "Text(value='', description='Username:')"
      ]
     },
     "metadata": {},
     "output_type": "display_data"
    },
    {
     "data": {
      "application/vnd.jupyter.widget-view+json": {
       "model_id": "bab32c27cd254fbeb390969dda489d6b",
       "version_major": 2,
       "version_minor": 0
      },
      "text/plain": [
       "Text(value='', description='Password:')"
      ]
     },
     "metadata": {},
     "output_type": "display_data"
    },
    {
     "data": {
      "application/vnd.jupyter.widget-view+json": {
       "model_id": "fcae05330b2042ad827e763645cacb92",
       "version_major": 2,
       "version_minor": 0
      },
      "text/plain": [
       "Button(description='Login', style=ButtonStyle())"
      ]
     },
     "metadata": {},
     "output_type": "display_data"
    },
    {
     "data": {
      "application/vnd.jupyter.widget-view+json": {
       "model_id": "82a023b300fc454e8d3709efd7c34036",
       "version_major": 2,
       "version_minor": 0
      },
      "text/plain": [
       "Output()"
      ]
     },
     "metadata": {},
     "output_type": "display_data"
    }
   ],
   "source": [
    "style = {'description_width': 'initial'}\n",
    "\n",
    "instructions = widgets.Label(\n",
    "    value='Please enter username and password.'\n",
    ")\n",
    "username = widgets.Text(\n",
    "    value='',\n",
    "    description='Username:',\n",
    "    disabled=False\n",
    ")\n",
    "password = widgets.Text(\n",
    "    value='',\n",
    "    description='Password:',\n",
    "    disabled=False\n",
    ")\n",
    "button = widgets.Button(description='Login', style=style)\n",
    "output = widgets.Output()\n",
    "\n",
    "\n",
    "def on_button_clicked(b):\n",
    "    if username.value == 'admin' and password.value == 'admin':\n",
    "        with output:\n",
    "            print(\"Login successful. Loading predictor tool.\")\n",
    "        webbrowser.open(\"https://github.com/jridd53/C964\")\n",
    "    else:\n",
    "        with output:\n",
    "            print(\"Invalid login info. Please try again.\")\n",
    "\n",
    "button.on_click(on_button_clicked)\n",
    "\n",
    "display(instructions,\n",
    "        username,\n",
    "        password,\n",
    "        button,\n",
    "        output)"
   ]
  },
  {
   "cell_type": "code",
   "execution_count": null,
   "id": "38d769ca",
   "metadata": {},
   "outputs": [],
   "source": []
  }
 ],
 "metadata": {
  "kernelspec": {
   "display_name": "Python 3 (ipykernel)",
   "language": "python",
   "name": "python3"
  },
  "language_info": {
   "codemirror_mode": {
    "name": "ipython",
    "version": 3
   },
   "file_extension": ".py",
   "mimetype": "text/x-python",
   "name": "python",
   "nbconvert_exporter": "python",
   "pygments_lexer": "ipython3",
   "version": "3.9.7"
  }
 },
 "nbformat": 4,
 "nbformat_minor": 5
}
